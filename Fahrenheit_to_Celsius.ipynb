{
 "cells": [
  {
   "cell_type": "markdown",
   "source": [
    "This code converts Fahrenheit to Celsius and vice versa."
   ],
   "metadata": {}
  },
  {
   "cell_type": "code",
   "execution_count": 19,
   "source": [
    "flag1=False\r\n",
    "while flag1==False:\r\n",
    "    x = input(\"Press 0 to convert from Fahrenheit to Celsius or Press 1 to convert from Celsius to Fahrenheit. \")\r\n",
    "    if x not in ['0','1']:\r\n",
    "        print('ERROR: Please enter either 0 or 1')\r\n",
    "    else:\r\n",
    "        z = int(x)\r\n",
    "        flag1=True\r\n",
    "\r\n",
    "flag2=False\r\n",
    "while flag2==False:\r\n",
    "    y = input(\"What is temperature do you want to convert?\")\r\n",
    "    if y.replace(\".\", \"\", 0).lstrip('+-').isdigit()==False:\r\n",
    "        print('ERROR: Please enter a number')\r\n",
    "    else:\r\n",
    "        y=float(y)\r\n",
    "        flag2=True\r\n",
    "\r\n",
    "if z == 0:\r\n",
    "    y=(y-32)*5/9\r\n",
    "    print('Your temperature in Celsius is: %s' %y)\r\n",
    "else:\r\n",
    "    y=y*9/5+32\r\n",
    "    print('Your temperature in Fahrenheit is: %s' %y)"
   ],
   "outputs": [
    {
     "output_type": "stream",
     "name": "stdout",
     "text": [
      "Your temperature in Fahrenheit is: 46.4\n"
     ]
    }
   ],
   "metadata": {}
  }
 ],
 "metadata": {
  "orig_nbformat": 4,
  "language_info": {
   "name": "python",
   "version": "3.9.5",
   "mimetype": "text/x-python",
   "codemirror_mode": {
    "name": "ipython",
    "version": 3
   },
   "pygments_lexer": "ipython3",
   "nbconvert_exporter": "python",
   "file_extension": ".py"
  },
  "kernelspec": {
   "name": "python3",
   "display_name": "Python 3.9.5 64-bit"
  },
  "interpreter": {
   "hash": "97a2fa9fc119fed249e0a4accde3cff38f51bfb21936d9ab92b74711fcfea9a0"
  }
 },
 "nbformat": 4,
 "nbformat_minor": 2
}